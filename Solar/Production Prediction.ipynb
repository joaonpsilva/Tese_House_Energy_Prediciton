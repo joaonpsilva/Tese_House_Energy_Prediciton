{
 "cells": [
  {
   "cell_type": "code",
   "execution_count": 44,
   "metadata": {},
   "outputs": [],
   "source": [
    "import requests\n",
    "from datetime import datetime, timedelta\n"
   ]
  },
  {
   "cell_type": "code",
   "execution_count": 45,
   "metadata": {},
   "outputs": [],
   "source": [
    "api_key = \"yZyAZZNwUIvI-br8DU-1-6gAAKNW_gAO\"\n",
    "endpoint = \"https://api.solcast.com.au/world_radiation/forecasts?latitude=51.497599&longitude=-0.122131&hours=10&format=json&api_key=\"\n",
    "\n",
    "url = endpoint + api_key"
   ]
  },
  {
   "cell_type": "code",
   "execution_count": 46,
   "metadata": {},
   "outputs": [
    {
     "name": "stdout",
     "output_type": "stream",
     "text": [
      "2022-04-10 19:01:28.739539\n"
     ]
    }
   ],
   "source": [
    "currentDate = datetime.now()\n",
    "print(currentDate)"
   ]
  },
  {
   "cell_type": "code",
   "execution_count": 47,
   "metadata": {},
   "outputs": [],
   "source": [
    "response = requests.get(url)"
   ]
  },
  {
   "cell_type": "code",
   "execution_count": 49,
   "metadata": {},
   "outputs": [
    {
     "name": "stdout",
     "output_type": "stream",
     "text": [
      "ERROR\n"
     ]
    }
   ],
   "source": [
    "try:\n",
    "    response = response.json()\n",
    "except:\n",
    "    print(\"ERROR\")\n",
    "\n",
    "response = response[\"forecasts\"]\n",
    "\n",
    "nextHourForecast=None\n",
    "for forecast in response:\n",
    "    timestamp = forecast[\"period_end\"][:16]\n",
    "    timestamp = datetime.strptime(timestamp, '%Y-%m-%dT%H:%M')\n",
    "    \n",
    "    if (timestamp - currentDate) >= timedelta(minutes=50):\n",
    "        nextHourForecast = forecast\n",
    "        break"
   ]
  },
  {
   "cell_type": "code",
   "execution_count": 50,
   "metadata": {},
   "outputs": [
    {
     "data": {
      "text/plain": [
       "{'ghi': 0,\n",
       " 'ghi90': 0,\n",
       " 'ghi10': 0,\n",
       " 'ebh': 0,\n",
       " 'dni': 0,\n",
       " 'dni10': 0,\n",
       " 'dni90': 0,\n",
       " 'dhi': 0,\n",
       " 'air_temp': 8,\n",
       " 'zenith': 99,\n",
       " 'azimuth': 65,\n",
       " 'cloud_opacity': 50,\n",
       " 'period_end': '2022-04-10T20:00:00.0000000Z',\n",
       " 'period': 'PT30M'}"
      ]
     },
     "execution_count": 50,
     "metadata": {},
     "output_type": "execute_result"
    }
   ],
   "source": [
    "nextHourForecast"
   ]
  },
  {
   "cell_type": "code",
   "execution_count": 51,
   "metadata": {},
   "outputs": [
    {
     "name": "stdout",
     "output_type": "stream",
     "text": [
      "Energy:  0\n"
     ]
    }
   ],
   "source": [
    "#area painel\n",
    "a = 1\n",
    "\n",
    "#\"irradiação normal direta no intervalo em watts por metro quadrado\"\n",
    "dni = nextHourForecast[\"dni\"]\n",
    "\n",
    "#\"valores mais comuns para a performance de células fotovoltaicas\"\n",
    "r = 15 \n",
    "\n",
    "#\"desprezável o fator de idade do painel, ou seja, não é considerada a deterioração do mesmo ao longo do tempo\"\n",
    "p = 1 \n",
    "\n",
    "E = a * r * dni * p\n",
    "\n",
    "print(\"Energy: \", E)"
   ]
  }
 ],
 "metadata": {
  "kernelspec": {
   "display_name": "Python 3",
   "language": "python",
   "name": "python3"
  },
  "language_info": {
   "codemirror_mode": {
    "name": "ipython",
    "version": 3
   },
   "file_extension": ".py",
   "mimetype": "text/x-python",
   "name": "python",
   "nbconvert_exporter": "python",
   "pygments_lexer": "ipython3",
   "version": "3.8.10"
  }
 },
 "nbformat": 4,
 "nbformat_minor": 4
}
